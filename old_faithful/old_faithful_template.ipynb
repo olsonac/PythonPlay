{
 "cells": [
  {
   "cell_type": "markdown",
   "id": "c88390af",
   "metadata": {},
   "source": [
    "# Old faithful\n"
   ]
  },
  {
   "cell_type": "markdown",
   "id": "285312e2",
   "metadata": {},
   "source": [
    "## About this exercise\n",
    "\n",
    "This exercise is an edited version of a lab (lab 8, summer 2017) from [the\n",
    "Berkeley data science course](https://github.com/data-8/data8assets) with\n",
    "thanks.  If you make a new version of this original, please note that this\n",
    "exercise has a [CC-BY-NC\n",
    "license](http://creativecommons.org/licenses/by-nc/4.0/); remember to give\n",
    "attribution to the original authors from the repository above.\n",
    "\n",
    "Some stuff added\n"
   ]
  },
  {
   "cell_type": "markdown",
   "id": "be40bda5",
   "metadata": {},
   "source": [
    "## Getting started\n",
    "\n",
    "This exercise gives you some hands-on practice with linear regression."
   ]
  },
  {
   "cell_type": "code",
   "execution_count": null,
   "id": "ec9d8a97",
   "metadata": {
    "lines_to_next_cell": 2
   },
   "outputs": [],
   "source": [
    "# Run this cell, but please don't change it.\n",
    "!pip install okpy\n",
    "\n",
    "# These lines import the Numpy and Pandas modules.\n",
    "import numpy as np\n",
    "import pandas as pd\n",
    "\n",
    "# These lines do some fancy plotting magic.\n",
    "import matplotlib\n",
    "%matplotlib inline\n",
    "import matplotlib.pyplot as plt\n",
    "plt.style.use('fivethirtyeight')\n",
    "import warnings\n",
    "warnings.simplefilter('ignore', FutureWarning)\n",
    "\n",
    "# These lines load the tests.\n",
    "from client.api.notebook import Notebook\n",
    "ok = Notebook('old_faithful.ok')"
   ]
  },
  {
   "cell_type": "markdown",
   "id": "e4a77ae9",
   "metadata": {},
   "source": [
    "# 1. How Faithful is Old Faithful? \n",
    "\n",
    "(Note: clever title comes from [here](http://web.pdx.edu/~jfreder/M212/oldfaithful.pdf).)\n",
    "\n",
    "Old Faithful is a geyser in Yellowstone National Park in the central United States.  It's famous for erupting on a fairly regular schedule.  You can see a video below."
   ]
  },
  {
   "cell_type": "code",
   "execution_count": null,
   "id": "8669a065",
   "metadata": {},
   "outputs": [],
   "source": [
    "# For the curious: this is how to display a YouTube video in a\n",
    "# Jupyter notebook.  The argument to YouTubeVideo is the part\n",
    "# of the URL (called a \"query parameter\") that identifies the\n",
    "# video.  For example, the full URL for this video is:\n",
    "#   https://www.youtube.com/watch?v=wE8NDuzt8eg\n",
    "from IPython.display import YouTubeVideo\n",
    "YouTubeVideo(\"wE8NDuzt8eg\")"
   ]
  },
  {
   "cell_type": "markdown",
   "id": "07e7140a",
   "metadata": {},
   "source": [
    "Some of Old Faithful's eruptions last longer than others.  When it has a long eruption, there's generally a longer wait until the next eruption.\n",
    "\n",
    "If you visit Yellowstone, you might want to predict when the next eruption will happen, so you can see the rest of the park and come to see the geyser when it happens.  Today, we will use a dataset on eruption durations and waiting times to see if we can make such predictions accurately with linear regression.\n",
    "\n",
    "The dataset has one row for each observed eruption.  It includes the following columns:\n",
    "\n",
    "- **duration**: Eruption duration, in minutes\n",
    "- **wait**: Time between this eruption and the next, also in minutes\n",
    "\n",
    "Run the next cell to load the dataset."
   ]
  },
  {
   "cell_type": "code",
   "execution_count": null,
   "id": "332de0c8",
   "metadata": {},
   "outputs": [],
   "source": [
    "faithful = pd.read_csv(\"faithful.csv\")\n",
    "faithful"
   ]
  },
  {
   "cell_type": "markdown",
   "id": "d46c9461",
   "metadata": {},
   "source": [
    "We would like to use linear regression to make predictions, but that\n",
    "won't work well if the data aren't roughly linearly related.  To check\n",
    "that, we should look at the data.\n"
   ]
  },
  {
   "cell_type": "markdown",
   "id": "d3280a58",
   "metadata": {},
   "source": [
    "## Question 1"
   ]
  },
  {
   "cell_type": "markdown",
   "id": "ee5155d6",
   "metadata": {},
   "source": [
    "Make a scatter plot of the data.  It's conventional to put the column we will try to predict on the vertical axis and the other column on the horizontal axis."
   ]
  },
  {
   "cell_type": "code",
   "execution_count": null,
   "id": "c2354945",
   "metadata": {},
   "outputs": [],
   "source": [
    "#<- ...\n",
    "faithful.plot.scatter('duration', 'wait')"
   ]
  },
  {
   "cell_type": "markdown",
   "id": "c232aaf2",
   "metadata": {},
   "source": [
    "## Question 2"
   ]
  },
  {
   "cell_type": "markdown",
   "id": "63b0a6f3",
   "metadata": {},
   "source": [
    "Look at the scatter plot. Do eruption duration and waiting time have\n",
    "a rough straight line relationship?"
   ]
  },
  {
   "cell_type": "markdown",
   "id": "b0b1991b",
   "metadata": {},
   "source": [
    "*Write your answer here, replacing this text.*"
   ]
  },
  {
   "cell_type": "markdown",
   "id": "b7459059",
   "metadata": {},
   "source": [
    "We're going to continue with the provisional assumption that they are\n",
    "linearly related, so it's reasonable to use linear regression to analyze\n",
    "this data.\n",
    "\n",
    "We'd next like to plot the data in standard units.  Recall that, if\n",
    "`nums` is an array of numbers, then\n",
    "\n",
    "    (nums - np.mean(nums)) / np.std(nums)\n",
    "\n",
    "...is an array of those numbers in standard units.\n"
   ]
  },
  {
   "cell_type": "markdown",
   "id": "a2b4a42a",
   "metadata": {},
   "source": [
    "## Question 3"
   ]
  },
  {
   "cell_type": "markdown",
   "id": "69028251",
   "metadata": {},
   "source": [
    "Compute the mean and standard deviation of the eruption durations and\n",
    "waiting times.  **Then** create a Data Frame called `faithful_standard`\n",
    "containing the eruption durations and waiting times in standard units.\n",
    "(The columns should be named `\"duration (standard units)\"` and `\"wait\n",
    "(standard units)\"`."
   ]
  },
  {
   "cell_type": "code",
   "execution_count": null,
   "id": "ac38edbf",
   "metadata": {
    "for_assignment_type": "#R_CODE#student"
   },
   "outputs": [],
   "source": [
    "#<- duration_mean = ...\n",
    "#<- duration_std = ...\n",
    "#<- wait_mean = ...\n",
    "#<- wait_std = ...\n",
    "duration = faithful['duration']\n",
    "wait = faithful['wait']\n",
    "duration_mean = np.mean(duration)\n",
    "duration_std = np.std(duration)\n",
    "wait_mean = np.mean(wait)\n",
    "wait_std = np.std(wait)\n",
    "\n",
    "#<--\n",
    "faithful_standard = pd.DataFrame()\n",
    "#<- faithful_standard[\"duration (standard units)\"] = ...\n",
    "faithful_standard[\"duration (standard units)\"] = (duration - duration_mean) / duration_std\n",
    "#<- faithful_standard[\"wait (standard units)\"] = ...\n",
    "faithful_standard[\"wait (standard units)\"] = (wait - wait_mean) / wait_std\n",
    "#<->\n",
    "# Show the new data frame.\n",
    "faithful_standard"
   ]
  },
  {
   "cell_type": "code",
   "execution_count": null,
   "id": "88b25108",
   "metadata": {},
   "outputs": [],
   "source": [
    "ok.grade('q1_3');"
   ]
  },
  {
   "cell_type": "markdown",
   "id": "77e74a35",
   "metadata": {},
   "source": [
    "## Question 4"
   ]
  },
  {
   "cell_type": "markdown",
   "id": "90eb4f5f",
   "metadata": {},
   "source": [
    "Plot the data again, but this time in standard units."
   ]
  },
  {
   "cell_type": "code",
   "execution_count": null,
   "id": "09637fad",
   "metadata": {},
   "outputs": [],
   "source": [
    "#<- ...\n",
    "faithful_standard.plot.scatter('duration (standard units)', 'wait (standard units)')"
   ]
  },
  {
   "cell_type": "markdown",
   "id": "9829c79e",
   "metadata": {},
   "source": [
    "You'll notice that this plot looks exactly the same as the last one!\n",
    "The data really are different, but the axes are scaled differently.\n",
    "(The method `scatter` scales the axes so the data fill up the available\n",
    "space.)  So it's important to read the ticks on the axes.\n"
   ]
  },
  {
   "cell_type": "markdown",
   "id": "05ab21ff",
   "metadata": {},
   "source": [
    "## Question 5\n",
    "\n",
    "Among the following numbers, which would you guess is closest to the\n",
    "correlation between eruption duration and waiting time in this dataset?\n",
    "\n",
    "* -1\n",
    "* 0\n",
    "* 1"
   ]
  },
  {
   "cell_type": "markdown",
   "id": "70fb9804",
   "metadata": {},
   "source": [
    "*Write your answer here, replacing this text.*\n"
   ]
  },
  {
   "cell_type": "markdown",
   "id": "f833779b",
   "metadata": {},
   "source": [
    "## Question 6"
   ]
  },
  {
   "cell_type": "markdown",
   "id": "fce20e73",
   "metadata": {},
   "source": [
    "*Compute* the correlation `r`.  *Hint:* Use `faithful_standard`. The Correlation section in the textbook explains how to do this."
   ]
  },
  {
   "cell_type": "code",
   "execution_count": null,
   "id": "f4545b70",
   "metadata": {},
   "outputs": [],
   "source": [
    "#<- r = ... \n",
    "r = np.mean(faithful_standard['duration (standard units)'] *\n",
    "            faithful_standard['wait (standard units)'])\n",
    "#<->\n",
    "r"
   ]
  },
  {
   "cell_type": "code",
   "execution_count": null,
   "id": "9e520edd",
   "metadata": {
    "lines_to_next_cell": 2
   },
   "outputs": [],
   "source": [
    "ok.grade('q1_6');"
   ]
  },
  {
   "cell_type": "markdown",
   "id": "ae2fb1f0",
   "metadata": {},
   "source": [
    "## 2. The regression line\n",
    "\n",
    "Recall that the correlation is the slope of the regression line when the\n",
    "data are put in standard units.\n",
    "\n",
    "The next cell plots the regression line in standard units:\n",
    "\n",
    "$$\\text{waiting time (standard units)} = r \\times \\text{eruption duration (standard units)}.$$\n",
    "\n",
    "Then, it plots the original data again, for comparison."
   ]
  },
  {
   "cell_type": "code",
   "execution_count": null,
   "id": "e193d04b",
   "metadata": {},
   "outputs": [],
   "source": [
    "def plot_data_and_line(dataset, x, y, point_0, point_1):\n",
    "    \"\"\"Makes a scatter plot of the dataset, along with a line passing through two points.\"\"\"\n",
    "    dataset.plot.scatter(x, y, label=\"data\")\n",
    "    xs, ys = zip(point_0, point_1)\n",
    "    plt.plot(xs, ys, label=\"regression line\", color='red')\n",
    "    plt.legend(bbox_to_anchor=(1.5,.8))\n",
    "\n",
    "plot_data_and_line(faithful_standard,\n",
    "                   \"duration (standard units)\",\n",
    "                   \"wait (standard units)\",\n",
    "                   [-2, -2*r],\n",
    "                   [2, 2*r])"
   ]
  },
  {
   "cell_type": "markdown",
   "id": "459adbc4",
   "metadata": {},
   "source": [
    "## Calculating the regression line\n",
    "\n",
    "In fact, we can calculate the regression line for the original (not\n",
    "standardized) data directly from the correlation.  If you are interested\n",
    "in how this works, see [the regression chapter from the Berkeley\n",
    "textbook](https://www.inferentialthinking.com/chapters/15/2/Regression_Line.html)\n",
    "\n",
    "For now, we will just re-estimate the regression using `minimize` skills.  Here is the generic least-squares line function:"
   ]
  },
  {
   "cell_type": "code",
   "execution_count": null,
   "id": "5113166b",
   "metadata": {},
   "outputs": [],
   "source": [
    "def ss_any_line(c_s, x_values, y_values):\n",
    "    c, s = c_s\n",
    "    predicted = c + x_values * s\n",
    "    error = y_values - predicted\n",
    "    return np.sum(error ** 2)"
   ]
  },
  {
   "cell_type": "markdown",
   "id": "6dea3ac6",
   "metadata": {},
   "source": [
    "You will also need `scipy.optimize.minimize`"
   ]
  },
  {
   "cell_type": "code",
   "execution_count": null,
   "id": "17386462",
   "metadata": {},
   "outputs": [],
   "source": [
    "from scipy.optimize import minimize"
   ]
  },
  {
   "cell_type": "markdown",
   "id": "3a531876",
   "metadata": {},
   "source": [
    "Calculate the least-squares intercept and slope for the *original* duration and wait times (not standardized):"
   ]
  },
  {
   "cell_type": "code",
   "execution_count": null,
   "id": "8df09a97",
   "metadata": {},
   "outputs": [],
   "source": [
    "#<- intercept, slope = ...\n",
    "intercept, slope = minimize(ss_any_line, [30, 10],\n",
    "                            args=(faithful['duration'],\n",
    "                                  faithful['wait'])).x\n",
    "#<->\n",
    "intercept, slope"
   ]
  },
  {
   "cell_type": "code",
   "execution_count": null,
   "id": "30570ff5",
   "metadata": {},
   "outputs": [],
   "source": [
    "ok.grade('q2_1');"
   ]
  },
  {
   "cell_type": "markdown",
   "id": "531c2157",
   "metadata": {},
   "source": [
    "\n",
    "## 3. Investigating the regression line\n",
    "\n",
    "\n",
    "The slope and intercept tell you exactly what the regression line looks\n",
    "like.  To predict the waiting time for an eruption, multiply the\n",
    "eruption's duration by `slope` and then add `intercept`.\n",
    "\n",
    "\n",
    "## Question 1\n",
    "\n",
    "Compute the predicted waiting time for an eruption that lasts 2 minutes,\n",
    "and for an eruption that lasts 5 minutes."
   ]
  },
  {
   "cell_type": "code",
   "execution_count": null,
   "id": "14ed1e60",
   "metadata": {},
   "outputs": [],
   "source": [
    "#<- two_minute_predicted_waiting_time = ...\n",
    "two_minute_predicted_waiting_time = intercept + slope * 2\n",
    "#<- five_minute_predicted_waiting_time = ...\n",
    "five_minute_predicted_waiting_time = intercept + slope * 5\n",
    "\n",
    "#<->\n",
    "# Here is a helper function to print out your predictions\n",
    "# (you don't need to modify it):\n",
    "def print_prediction(duration, predicted_waiting_time):\n",
    "    print(\"After an eruption lasting\", duration,\n",
    "          \"minutes, we predict you'll wait\", predicted_waiting_time,\n",
    "          \"minutes until the next eruption.\")\n",
    "\n",
    "print_prediction(2, two_minute_predicted_waiting_time)\n",
    "print_prediction(5, five_minute_predicted_waiting_time)"
   ]
  },
  {
   "cell_type": "markdown",
   "id": "8a7e1aef",
   "metadata": {},
   "source": [
    "The next cell plots the line that goes between those two points, which\n",
    "is (a segment of) the regression line."
   ]
  },
  {
   "cell_type": "code",
   "execution_count": null,
   "id": "6606e578",
   "metadata": {
    "lines_to_next_cell": 2
   },
   "outputs": [],
   "source": [
    "plot_data_and_line(faithful, \"duration\", \"wait\",\n",
    "                   [2, two_minute_predicted_waiting_time],\n",
    "                   [5, five_minute_predicted_waiting_time])"
   ]
  },
  {
   "cell_type": "markdown",
   "id": "c2816fdc",
   "metadata": {},
   "source": [
    "## Question 2"
   ]
  },
  {
   "cell_type": "markdown",
   "id": "a09ee164",
   "metadata": {},
   "source": [
    "Make predictions for the waiting time after each eruption in the\n",
    "`faithful` table.  (Of course, we know exactly what the waiting times\n",
    "were!  We are doing this so we can see how accurate our predictions\n",
    "are.)  Put these numbers into a new variable called\n",
    "`faithful_predictions`.  Its first value should be around 72.1.\n",
    "\n",
    "*Hint:* Your answer can be just one line.  There is no need for a `for`\n",
    "loop; use array arithmetic instead."
   ]
  },
  {
   "cell_type": "code",
   "execution_count": null,
   "id": "1ae06bfe",
   "metadata": {
    "lines_to_next_cell": 2
   },
   "outputs": [],
   "source": [
    "#<- faithful_predictions = ...\n",
    "faithful_predictions = intercept + slope * faithful['duration']\n",
    "#<->\n",
    "faithful_predictions"
   ]
  },
  {
   "cell_type": "code",
   "execution_count": null,
   "id": "9aec61f3",
   "metadata": {},
   "outputs": [],
   "source": [
    "ok.grade(\"q3_2\");"
   ]
  },
  {
   "cell_type": "markdown",
   "id": "caccf31e",
   "metadata": {},
   "source": [
    "## Question 3"
   ]
  },
  {
   "cell_type": "markdown",
   "id": "b7f3c0d3",
   "metadata": {},
   "source": [
    "How close were we?  Compute the *residual* for each eruption in the\n",
    "dataset.  The residual is the actual waiting time minus the predicted\n",
    "waiting time.  Make a new data frame called `faithful_residuals` that\n",
    "has the original `duration` and `wait` columns, but adds the residuals\n",
    "as a new column called `\"residual\"`\n",
    "\n",
    "*Hint:* Again, your code will be much simpler if you don't use a `for`\n",
    "loop."
   ]
  },
  {
   "cell_type": "code",
   "execution_count": null,
   "id": "0e7efa7e",
   "metadata": {},
   "outputs": [],
   "source": [
    "#<-\n",
    "# Make a copy of the original table to start.\n",
    "faithful_residuals = faithful.copy()\n",
    "# Fill in the new column.\n",
    "#<-\n",
    "#<- residuals = ...\n",
    "residuals = faithful['wait'] - faithful_predictions\n",
    "#<- faithful_residuals...\n",
    "faithful_residuals['residual'] = residuals\n",
    "#<->\n",
    "faithful_residuals.head()"
   ]
  },
  {
   "cell_type": "code",
   "execution_count": null,
   "id": "eb5505df",
   "metadata": {},
   "outputs": [],
   "source": [
    "ok.grade(\"q3_3\");"
   ]
  },
  {
   "cell_type": "markdown",
   "id": "0d740a1c",
   "metadata": {},
   "source": [
    "Here is a plot of the residuals you computed.  Each point corresponds to\n",
    "one eruption.  It shows how much our prediction over- or under-estimated\n",
    "the waiting time."
   ]
  },
  {
   "cell_type": "code",
   "execution_count": null,
   "id": "b71a44b4",
   "metadata": {},
   "outputs": [],
   "source": [
    "faithful_residuals.plot.scatter(\"duration\", \"residual\", color=\"r\")"
   ]
  },
  {
   "cell_type": "markdown",
   "id": "901e53f5",
   "metadata": {},
   "source": [
    "There isn't really a pattern in the residuals, which confirms that it\n",
    "was reasonable to try linear regression.  It's true that there are two\n",
    "separate clouds; the eruption durations seemed to fall into two distinct\n",
    "clusters.  But that's just a pattern in the eruption durations, not a\n",
    "pattern in the relationship between eruption durations and waiting\n",
    "times."
   ]
  },
  {
   "cell_type": "markdown",
   "id": "c6f74df3",
   "metadata": {},
   "source": [
    "## 4. How accurate are different predictions?\n",
    "\n",
    "Earlier, you should have found that the correlation is fairly close to\n",
    "1, so the line fits fairly well on the training data.  That means the\n",
    "residuals are overall small (close to 0) in comparison to the waiting\n",
    "times.\n",
    "\n",
    "We can see that visually by plotting the waiting times and residuals together:"
   ]
  },
  {
   "cell_type": "code",
   "execution_count": null,
   "id": "d5dab08c",
   "metadata": {},
   "outputs": [],
   "source": [
    "faithful_residuals.plot.scatter(\"duration\", \"wait\", label=\"actual waiting time\", color=\"blue\")\n",
    "plt.scatter(faithful_residuals[\"duration\"], faithful_residuals[\"residual\"], label=\"residual\", color=\"r\")\n",
    "plt.plot([2, 5], [two_minute_predicted_waiting_time, five_minute_predicted_waiting_time], label=\"regression line\")\n",
    "plt.legend(bbox_to_anchor=(1.7,.8));"
   ]
  },
  {
   "cell_type": "markdown",
   "id": "23f7bf7e",
   "metadata": {},
   "source": [
    "However, unless you have a strong reason to believe that the linear\n",
    "regression model is true, you should be wary of applying your prediction\n",
    "model to data that are very different from the training data.\n"
   ]
  },
  {
   "cell_type": "markdown",
   "id": "d4132465",
   "metadata": {},
   "source": [
    "## Question 1\n",
    "\n",
    "In `faithful`, no eruption lasted exactly 0, 2.5, or 60 minutes.  Using\n",
    "this line, what is the predicted waiting time for an eruption that lasts\n",
    "0 minutes?  2.5 minutes?  An hour?"
   ]
  },
  {
   "cell_type": "code",
   "execution_count": null,
   "id": "f27b1375",
   "metadata": {},
   "outputs": [],
   "source": [
    "#<- zero_minute_predicted_waiting_time = ...\n",
    "zero_minute_predicted_waiting_time = intercept\n",
    "#<- two_point_five_minute_predicted_waiting_time = ...\n",
    "two_point_five_minute_predicted_waiting_time = intercept + slope * 2.5\n",
    "#<- hour_predicted_waiting_time = ...\n",
    "hour_predicted_waiting_time = intercept * slope * 60\n",
    "\n",
    "#<->\n",
    "print_prediction(0, zero_minute_predicted_waiting_time)\n",
    "print_prediction(2.5, two_point_five_minute_predicted_waiting_time)\n",
    "print_prediction(60, hour_predicted_waiting_time)"
   ]
  },
  {
   "cell_type": "code",
   "execution_count": null,
   "id": "8c938136",
   "metadata": {},
   "outputs": [],
   "source": [
    "ok.grade('q4_1');"
   ]
  },
  {
   "cell_type": "markdown",
   "id": "d2221c43",
   "metadata": {},
   "source": [
    "**Question 2.** Do you believe any of these values are reliable\n",
    "predictions?  If you don't believe some of them, say why."
   ]
  },
  {
   "cell_type": "markdown",
   "id": "ebe2ada5",
   "metadata": {},
   "source": [
    "*Write your answer here, replacing this text.*"
   ]
  },
  {
   "cell_type": "markdown",
   "id": "443aad51",
   "metadata": {},
   "source": [
    "## 5. Divide and Conquer"
   ]
  },
  {
   "cell_type": "markdown",
   "id": "8d7f688d",
   "metadata": {},
   "source": [
    "It appears from the scatter diagram that there are two clusters of points: one\n",
    "for durations around 2 and another for durations between 3.5 and 5. A vertical\n",
    "line at 3 divides the two clusters."
   ]
  },
  {
   "cell_type": "code",
   "execution_count": null,
   "id": "038afde2",
   "metadata": {},
   "outputs": [],
   "source": [
    "faithful.plot.scatter(\"duration\", \"wait\", label=\"actual waiting time\", color=\"blue\")\n",
    "plt.plot([3, 3], [40, 100]);"
   ]
  },
  {
   "cell_type": "markdown",
   "id": "e495d520",
   "metadata": {},
   "source": [
    "The `standardize` function from the lecture appears below, which returns\n",
    "a table of values in standard units."
   ]
  },
  {
   "cell_type": "code",
   "execution_count": null,
   "id": "2f169966",
   "metadata": {},
   "outputs": [],
   "source": [
    "def standard_units(any_numbers):\n",
    "    \"Convert any array of numbers to standard units.\"\n",
    "    return (any_numbers - np.mean(any_numbers)) / np.std(any_numbers)\n",
    "\n",
    "\n",
    "def standardize(t):\n",
    "    \"\"\"Return table for which all columns of t converted to standard units.\"\"\"\n",
    "    t_su = pd.DataFrame()\n",
    "    for col_name in t:\n",
    "        t_su[col_name] = standard_units(t[col_name])\n",
    "    return t_su"
   ]
  },
  {
   "cell_type": "markdown",
   "id": "5ce81904",
   "metadata": {},
   "source": [
    "**Question 1**. Separately compute the regression coefficients r for all the\n",
    "points with a duration below 3 **and then** for all the points with a duration\n",
    "above 3. To do so, create a function that computes `r` from a table and pass it\n",
    "two different tables of points, `below_3` and `above_3`."
   ]
  },
  {
   "cell_type": "code",
   "execution_count": null,
   "id": "a39b8fd2",
   "metadata": {},
   "outputs": [],
   "source": [
    "def reg_coeff(t):\n",
    "    \"\"\"Return the regression coefficient for columns 0 & 1.\n",
    "\n",
    "    Use .iloc[:, 0] to get values for columns 0, etc.\n",
    "    \"\"\"\n",
    "    t_su = standardize(t)\n",
    "#<-    ...\n",
    "    return np.mean(t_su.iloc[:, 0] * t_su.iloc[:, 1])\n",
    "\n",
    "#<- below_3 = ...\n",
    "below_3 = faithful[faithful['duration'] < 3]\n",
    "#<- above_3 = ...\n",
    "above_3 = faithful[faithful['duration'] > 3]\n",
    "#<->\n",
    "below_3_r = reg_coeff(below_3)\n",
    "above_3_r = reg_coeff(above_3)\n",
    "print(\"For points below 3, r is\", below_3_r, \"; for points above 3, r is\", above_3_r)"
   ]
  },
  {
   "cell_type": "code",
   "execution_count": null,
   "id": "4ff8c334",
   "metadata": {},
   "outputs": [],
   "source": [
    "ok.grade('q5_1');"
   ]
  },
  {
   "cell_type": "markdown",
   "id": "506e6518",
   "metadata": {},
   "source": [
    "**Question 2.** Make separate lines to predict wait times.\n",
    "\n",
    "Use `minimize` to calculate separate regression lines for durations below 3, and those above 3.\n",
    "\n",
    "When you're done, the functions `wait_below_3` and `wait_above_3` below should\n",
    "each use a different regression line to predict a wait time for a duration. The\n",
    "first function should use the regression line for all points with duration\n",
    "below 3. The second function should use the regression line for all points with\n",
    "duration above 3."
   ]
  },
  {
   "cell_type": "code",
   "execution_count": null,
   "id": "7212d9d6",
   "metadata": {},
   "outputs": [],
   "source": [
    "#<- below_3_inter, below_3_slope = ...\n",
    "below_3_inter, below_3_slope = minimize(\n",
    "    ss_any_line,\n",
    "    [30, 10],\n",
    "    args=(below_3['duration'], below_3['wait'])).x\n",
    "#<- above_3_inter, above_3_slope = ...\n",
    "above_3_inter, above_3_slope = minimize(\n",
    "    ss_any_line,\n",
    "    [30, 10],\n",
    "    args=(above_3['duration'], above_3['wait'])).x\n",
    "#<->\n",
    "\n",
    "def wait_below_3(duration):\n",
    "    return below_3_inter + below_3_slope * duration\n",
    "\n",
    "\n",
    "def wait_above_3(duration):\n",
    "    return above_3_inter + above_3_slope * duration"
   ]
  },
  {
   "cell_type": "code",
   "execution_count": null,
   "id": "88000a44",
   "metadata": {},
   "outputs": [],
   "source": [
    "ok.grade('q5_2');"
   ]
  },
  {
   "cell_type": "markdown",
   "id": "b832b094",
   "metadata": {},
   "source": [
    "The plot below shows two different regression lines, one for each cluster!"
   ]
  },
  {
   "cell_type": "code",
   "execution_count": null,
   "id": "7e98987b",
   "metadata": {},
   "outputs": [],
   "source": [
    "faithful.plot.scatter(0, 1)\n",
    "plt.plot([1, 3], [wait_below_3(1), wait_below_3(3)], color='red')\n",
    "plt.plot([3, 6], [wait_above_3(3), wait_above_3(6)], color='red');"
   ]
  },
  {
   "cell_type": "markdown",
   "id": "754675b3",
   "metadata": {},
   "source": [
    "**Question 3.** Write a function `predict_wait` that takes a `duration` and\n",
    "returns the predicted wait time using the appropriate regression line,\n",
    "depending on whether the duration is below 3 or greater than (or equal to) 3."
   ]
  },
  {
   "cell_type": "code",
   "execution_count": null,
   "id": "6344fb8e",
   "metadata": {
    "for_assignment_type": "#R_CODE#student"
   },
   "outputs": [],
   "source": [
    "#<-\n",
    "def predict_wait(duration):\n",
    "    \"\"\" Return wait predicted by the matching regression line.\n",
    "\n",
    "    Return wait predicted by the appropriate one of the two regression lines\n",
    "    above.\n",
    "    \"\"\"\n",
    "#<-\n",
    "#<-    ...\n",
    "    if duration < 3:\n",
    "        return wait_below_3(duration)\n",
    "    return wait_above_3(duration)"
   ]
  },
  {
   "cell_type": "code",
   "execution_count": null,
   "id": "8b310073",
   "metadata": {},
   "outputs": [],
   "source": [
    "ok.grade('q5_3');"
   ]
  },
  {
   "cell_type": "markdown",
   "id": "170ddacd",
   "metadata": {},
   "source": [
    "The predicted wait times for each point appear below."
   ]
  },
  {
   "cell_type": "code",
   "execution_count": null,
   "id": "d6f3ad3f",
   "metadata": {},
   "outputs": [],
   "source": [
    "faith_predicted = faithful.copy()\n",
    "faith_predicted['predicted'] = faithful['duration'].apply(predict_wait)\n",
    "ax = faith_predicted.plot.scatter('duration', 'wait')  # Overlay on previous.\n",
    "faith_predicted.plot.scatter('duration', 'predicted', ax=ax, color='red');"
   ]
  },
  {
   "cell_type": "markdown",
   "id": "9a3c9b98",
   "metadata": {},
   "source": [
    "**Question 4.** Do you think the predictions produced by `predict_wait` would be more or less accurate than the predictions from the regression line you created in section 2? How could you tell?"
   ]
  },
  {
   "cell_type": "markdown",
   "id": "c136b129",
   "metadata": {},
   "source": [
    "*Write your answer here, replacing this text.*\n",
    "\n",
    "\n"
   ]
  },
  {
   "cell_type": "markdown",
   "id": "ea3f0490",
   "metadata": {},
   "source": [
    "## Done"
   ]
  },
  {
   "cell_type": "markdown",
   "id": "e55643f8",
   "metadata": {},
   "source": [
    "You're finished with the assignment!  Be sure to...\n",
    "\n",
    "- **run all the tests** (the next cell has a shortcut for that),\n",
    "- **Save and Checkpoint** from the \"File\" menu.\n",
    "- Finally, **restart** the kernel for this notebook, and **run all the cells**,\n",
    "  to check that the notebook still works without errors.  Use the\n",
    "  \"Kernel\" menu, and choose \"Restart and run all\".  If you find any\n",
    "  problems, go back and fix them, save the notebook, and restart / run\n",
    "  all again, before submitting.  When you do this, you make sure that\n",
    "  we, your humble markers, will be able to mark your notebook."
   ]
  },
  {
   "cell_type": "code",
   "execution_count": null,
   "id": "cc24d4b8",
   "metadata": {},
   "outputs": [],
   "source": [
    "# For your convenience, you can run this cell to run all the tests at once!\n",
    "import os\n",
    "_ = [ok.grade(q[:-3]) for q in os.listdir(\"tests\") if q.startswith('q')]"
   ]
  }
 ],
 "metadata": {
  "jupytext": {
   "formats": "Rmd,ipynb",
   "split_at_heading": true
  },
  "kernelspec": {
   "display_name": "Python 3 (ipykernel)",
   "language": "python",
   "name": "python3"
  },
  "language_info": {
   "codemirror_mode": {
    "name": "ipython",
    "version": 3
   },
   "file_extension": ".py",
   "mimetype": "text/x-python",
   "name": "python",
   "nbconvert_exporter": "python",
   "pygments_lexer": "ipython3",
   "version": "3.8.8"
  }
 },
 "nbformat": 4,
 "nbformat_minor": 5
}
